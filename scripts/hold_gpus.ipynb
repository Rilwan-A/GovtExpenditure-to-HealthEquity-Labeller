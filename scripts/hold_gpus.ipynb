{
 "cells": [
  {
   "cell_type": "code",
   "execution_count": 1,
   "metadata": {},
   "outputs": [],
   "source": [
    "import torch\n",
    "import time\n",
    "\n",
    "# Set the GPUs to be used\n",
    "gpu_ids = [0,1]  # IDs of the GPUs to be used\n",
    "\n",
    "# Check if the GPUs are available\n",
    "if torch.cuda.is_available():\n",
    "    # Set CUDA devices\n",
    "    torch.cuda.set_device(gpu_ids[0])  # Set the first GPU as the default device\n",
    "    torch.cuda.init()\n",
    "\n",
    "    # Allocate memory on the GPUs\n",
    "    tensors = []\n",
    "    for gpu_id in gpu_ids:\n",
    "        tensors.append(torch.zeros(16 * 1024, 16 * 1024, 15 ).cuda(gpu_id))  # Allocate tensors on each GPU\n",
    "\n",
    "    # Hold the GPUs and keep the script running\n",
    "    input(\"Press Enter to release the GPUs...\",)\n",
    "\n",
    "    # # Run for two hours\n",
    "    # duration = 5 * 60 * 60  # Two hours in seconds\n",
    "    # start_time = time.time()\n",
    "    # while time.time() - start_time < duration:\n",
    "    #     time.sleep(10)  # Sleep for 10 seconds\n",
    "\n",
    "    # Release the GPUs\n",
    "    tensors = None\n",
    "    torch.cuda.empty_cache()\n",
    "    del tensors\n",
    "\n",
    "else:\n",
    "    print(\"No GPUs available.\")"
   ]
  },
  {
   "cell_type": "code",
   "execution_count": 2,
   "metadata": {},
   "outputs": [
    {
     "ename": "NameError",
     "evalue": "name 'tensors' is not defined",
     "output_type": "error",
     "traceback": [
      "\u001b[0;31m---------------------------------------------------------------------------\u001b[0m",
      "\u001b[0;31mNameError\u001b[0m                                 Traceback (most recent call last)",
      "Cell \u001b[0;32mIn[2], line 1\u001b[0m\n\u001b[0;32m----> 1\u001b[0m \u001b[39mdel\u001b[39;00m tensors\n\u001b[1;32m      2\u001b[0m torch\u001b[39m.\u001b[39mcuda\u001b[39m.\u001b[39mempty_cache()\n",
      "\u001b[0;31mNameError\u001b[0m: name 'tensors' is not defined"
     ]
    },
    {
     "ename": "",
     "evalue": "",
     "output_type": "error",
     "traceback": [
      "\u001b[1;31mThe Kernel crashed while executing code in the the current cell or a previous cell. Please review the code in the cell(s) to identify a possible cause of the failure. Click <a href='https://aka.ms/vscodeJupyterKernelCrash'>here</a> for more info. View Jupyter <a href='command:jupyter.viewOutput'>log</a> for further details."
     ]
    }
   ],
   "source": [
    "del tensors\n",
    "torch.cuda.empty_cache()"
   ]
  }
 ],
 "metadata": {
  "kernelspec": {
   "display_name": "alanturing",
   "language": "python",
   "name": "python3"
  },
  "language_info": {
   "codemirror_mode": {
    "name": "ipython",
    "version": 3
   },
   "file_extension": ".py",
   "mimetype": "text/x-python",
   "name": "python",
   "nbconvert_exporter": "python",
   "pygments_lexer": "ipython3",
   "version": "3.10.9"
  },
  "orig_nbformat": 4
 },
 "nbformat": 4,
 "nbformat_minor": 2
}
