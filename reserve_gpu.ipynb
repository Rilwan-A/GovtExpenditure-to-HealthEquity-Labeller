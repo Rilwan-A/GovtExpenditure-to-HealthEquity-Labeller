{
 "cells": [
  {
   "cell_type": "code",
   "execution_count": 1,
   "metadata": {},
   "outputs": [
    {
     "name": "stdout",
     "output_type": "stream",
     "text": [
      "Reserved 16GB of memory on GPU 0.\n",
      "Reserving GPUs for 3600 seconds...\n"
     ]
    }
   ],
   "source": [
    "import torch\n",
    "import time\n",
    "import gc\n",
    "\n",
    "def reserve_gpu_memory(device):\n",
    "    total_elements = 16 * 1024**3 // torch.tensor([], dtype=torch.float32).element_size() # Total elements that fits in 16 GB\n",
    "    tensor_shape = (total_elements,) # We can use a 1D tensor\n",
    "    _ = torch.ones(tensor_shape, dtype=torch.float32, device=device) # Create the tensor\n",
    "    return _\n",
    "# List the devices you want to use. These are the device IDs.\n",
    "devices_to_use = [0]\n",
    "\n",
    "# Set the amount of time (in seconds) to reserve the GPUs before freeing the memory\n",
    "reserve_time = 3600 # 2 hour\n",
    "\n",
    "tensors = []\n",
    "for device_id in devices_to_use:\n",
    "    device = torch.device(f\"cuda:{device_id}\")\n",
    "    try:\n",
    "        tensors.append( reserve_gpu_memory(device) )\n",
    "        print(f\"Reserved 16GB of memory on GPU {device_id}.\")\n",
    "    except RuntimeError as e:\n",
    "        print(f\"Error: {e}\")\n",
    "        print(f\"Failed to reserve 16GB of memory on GPU {device_id}.\")\n",
    "\n",
    "print(f\"Reserving GPUs for {reserve_time} seconds...\")\n",
    "time.sleep(reserve_time)\n",
    "\n",
    "print(\"Reservation time ended. Memory will now be freed on the next garbage collection cycle.\")\n",
    "del tensors\n",
    "gc.collect()\n",
    "torch.cuda.empty_cache()\n"
   ]
  }
 ],
 "metadata": {
  "kernelspec": {
   "display_name": "alanturing",
   "language": "python",
   "name": "python3"
  },
  "language_info": {
   "codemirror_mode": {
    "name": "ipython",
    "version": 3
   },
   "file_extension": ".py",
   "mimetype": "text/x-python",
   "name": "python",
   "nbconvert_exporter": "python",
   "pygments_lexer": "ipython3",
   "version": "3.10.9"
  },
  "orig_nbformat": 4
 },
 "nbformat": 4,
 "nbformat_minor": 2
}
