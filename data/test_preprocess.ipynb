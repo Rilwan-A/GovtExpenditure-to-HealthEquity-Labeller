{
 "cells": [
  {
   "cell_type": "code",
   "execution_count": 1,
   "metadata": {},
   "outputs": [
    {
     "name": "stderr",
     "output_type": "stream",
     "text": [
      "/home/akann1warw1ck/miniconda3/envs/alanturing/lib/python3.10/site-packages/tqdm/auto.py:21: TqdmWarning: IProgress not found. Please update jupyter and ipywidgets. See https://ipywidgets.readthedocs.io/en/stable/user_install.html\n",
      "  from .autonotebook import tqdm as notebook_tqdm\n"
     ]
    },
    {
     "name": "stdout",
     "output_type": "stream",
     "text": [
      "\n",
      "===================================BUG REPORT===================================\n",
      "Welcome to bitsandbytes. For bug reports, please run\n",
      "\n",
      "python -m bitsandbytes\n",
      "\n",
      " and submit this information together with your error trace to: https://github.com/TimDettmers/bitsandbytes/issues\n",
      "================================================================================\n",
      "bin /home/akann1warw1ck/miniconda3/envs/alanturing/lib/python3.10/site-packages/bitsandbytes/libbitsandbytes_cuda117.so\n",
      "CUDA SETUP: CUDA runtime path found: /home/akann1warw1ck/miniconda3/envs/alanturing/lib/libcudart.so.11.0\n",
      "CUDA SETUP: Highest compute capability among GPUs detected: 7.5\n",
      "CUDA SETUP: Detected CUDA version 117\n",
      "CUDA SETUP: Loading binary /home/akann1warw1ck/miniconda3/envs/alanturing/lib/python3.10/site-packages/bitsandbytes/libbitsandbytes_cuda117.so...\n"
     ]
    },
    {
     "name": "stderr",
     "output_type": "stream",
     "text": [
      "/home/akann1warw1ck/miniconda3/envs/alanturing/lib/python3.10/site-packages/bitsandbytes/cuda_setup/main.py:149: UserWarning: Found duplicate ['libcudart.so', 'libcudart.so.11.0', 'libcudart.so.12.0'] files: {PosixPath('/home/akann1warw1ck/miniconda3/envs/alanturing/lib/libcudart.so.11.0'), PosixPath('/home/akann1warw1ck/miniconda3/envs/alanturing/lib/libcudart.so')}.. We'll flip a coin and try one of these, in order to fail forward.\n",
      "Either way, this might cause trouble in the future:\n",
      "If you get `CUDA error: invalid device function` errors, the above might be the cause and the solution is to make sure only one ['libcudart.so', 'libcudart.so.11.0', 'libcudart.so.12.0'] in the paths that we search based on your env.\n",
      "  warn(msg)\n"
     ]
    }
   ],
   "source": [
    "import os, sys\n",
    "os.environ[\"CUDA_VISIBLE_DEVICES\"] = \"0\"                 \n",
    "os.environ[\"HF_HOME\"] = \"/mnt/Data1/akann1warw1ck/AlanTuring/.cache\"\n",
    "os.environ[\"TRANSFORMERS_CACHE\"] = \"/mnt/Data1/akann1warw1ck/AlanTuring/.cache/transformers\"\n",
    "\n",
    "sys.path.append( os.path.abspath(os.path.join(os.getcwd(), \"../\")) )\n",
    "\n",
    "from prompt_engineering.langchain.utils import load_llm\n",
    "from prompt_engineering.utils_prompteng import map_llmname_input_format\n",
    "\n",
    "import json\n",
    "\n",
    "import langchain\n",
    "\n",
    "langchain.llm_cache.clear()"
   ]
  },
  {
   "cell_type": "code",
   "execution_count": 85,
   "metadata": {},
   "outputs": [
    {
     "data": {
      "text/html": [
       "<pre style=\"white-space:pre;overflow-x:auto;line-height:normal;font-family:Menlo,'DejaVu Sans Mono',consolas,'Courier New',monospace\"><span style=\"color: #800000; text-decoration-color: #800000\">╭─────────────────────────────── </span><span style=\"color: #800000; text-decoration-color: #800000; font-weight: bold\">Traceback </span><span style=\"color: #bf7f7f; text-decoration-color: #bf7f7f; font-weight: bold\">(most recent call last)</span><span style=\"color: #800000; text-decoration-color: #800000\"> ────────────────────────────────╮</span>\n",
       "<span style=\"color: #800000; text-decoration-color: #800000\">│</span> in <span style=\"color: #00ff00; text-decoration-color: #00ff00\">&lt;module&gt;</span>:<span style=\"color: #0000ff; text-decoration-color: #0000ff\">3</span>                                                                                    <span style=\"color: #800000; text-decoration-color: #800000\">│</span>\n",
       "<span style=\"color: #800000; text-decoration-color: #800000\">│</span>                                                                                                  <span style=\"color: #800000; text-decoration-color: #800000\">│</span>\n",
       "<span style=\"color: #800000; text-decoration-color: #800000\">│</span>   <span style=\"color: #7f7f7f; text-decoration-color: #7f7f7f\">1 </span><span style=\"color: #0000ff; text-decoration-color: #0000ff\">from</span> <span style=\"color: #00ffff; text-decoration-color: #00ffff; text-decoration: underline\">torch.cuda</span> <span style=\"color: #0000ff; text-decoration-color: #0000ff\">import</span> empty_cache                                                           <span style=\"color: #800000; text-decoration-color: #800000\">│</span>\n",
       "<span style=\"color: #800000; text-decoration-color: #800000\">│</span>   <span style=\"color: #7f7f7f; text-decoration-color: #7f7f7f\">2 </span><span style=\"color: #0000ff; text-decoration-color: #0000ff\">import</span> <span style=\"color: #00ffff; text-decoration-color: #00ffff; text-decoration: underline\">gc</span>                                                                                    <span style=\"color: #800000; text-decoration-color: #800000\">│</span>\n",
       "<span style=\"color: #800000; text-decoration-color: #800000\">│</span> <span style=\"color: #800000; text-decoration-color: #800000\">❱ </span>3 <span style=\"color: #0000ff; text-decoration-color: #0000ff\">del</span> llm                                                                                      <span style=\"color: #800000; text-decoration-color: #800000\">│</span>\n",
       "<span style=\"color: #800000; text-decoration-color: #800000\">│</span>   <span style=\"color: #7f7f7f; text-decoration-color: #7f7f7f\">4 </span>gc.collect()                                                                                 <span style=\"color: #800000; text-decoration-color: #800000\">│</span>\n",
       "<span style=\"color: #800000; text-decoration-color: #800000\">│</span>   <span style=\"color: #7f7f7f; text-decoration-color: #7f7f7f\">5 </span>empty_cache()                                                                                <span style=\"color: #800000; text-decoration-color: #800000\">│</span>\n",
       "<span style=\"color: #800000; text-decoration-color: #800000\">│</span>   <span style=\"color: #7f7f7f; text-decoration-color: #7f7f7f\">6 </span>                                                                                             <span style=\"color: #800000; text-decoration-color: #800000\">│</span>\n",
       "<span style=\"color: #800000; text-decoration-color: #800000\">╰──────────────────────────────────────────────────────────────────────────────────────────────────╯</span>\n",
       "<span style=\"color: #ff0000; text-decoration-color: #ff0000; font-weight: bold\">NameError: </span>name <span style=\"color: #008000; text-decoration-color: #008000\">'llm'</span> is not defined\n",
       "</pre>\n"
      ],
      "text/plain": [
       "\u001b[31m╭─\u001b[0m\u001b[31m──────────────────────────────\u001b[0m\u001b[31m \u001b[0m\u001b[1;31mTraceback \u001b[0m\u001b[1;2;31m(most recent call last)\u001b[0m\u001b[31m \u001b[0m\u001b[31m───────────────────────────────\u001b[0m\u001b[31m─╮\u001b[0m\n",
       "\u001b[31m│\u001b[0m in \u001b[92m<module>\u001b[0m:\u001b[94m3\u001b[0m                                                                                    \u001b[31m│\u001b[0m\n",
       "\u001b[31m│\u001b[0m                                                                                                  \u001b[31m│\u001b[0m\n",
       "\u001b[31m│\u001b[0m   \u001b[2m1 \u001b[0m\u001b[94mfrom\u001b[0m \u001b[4;96mtorch\u001b[0m\u001b[4;96m.\u001b[0m\u001b[4;96mcuda\u001b[0m \u001b[94mimport\u001b[0m empty_cache                                                           \u001b[31m│\u001b[0m\n",
       "\u001b[31m│\u001b[0m   \u001b[2m2 \u001b[0m\u001b[94mimport\u001b[0m \u001b[4;96mgc\u001b[0m                                                                                    \u001b[31m│\u001b[0m\n",
       "\u001b[31m│\u001b[0m \u001b[31m❱ \u001b[0m3 \u001b[94mdel\u001b[0m llm                                                                                      \u001b[31m│\u001b[0m\n",
       "\u001b[31m│\u001b[0m   \u001b[2m4 \u001b[0mgc.collect()                                                                                 \u001b[31m│\u001b[0m\n",
       "\u001b[31m│\u001b[0m   \u001b[2m5 \u001b[0mempty_cache()                                                                                \u001b[31m│\u001b[0m\n",
       "\u001b[31m│\u001b[0m   \u001b[2m6 \u001b[0m                                                                                             \u001b[31m│\u001b[0m\n",
       "\u001b[31m╰──────────────────────────────────────────────────────────────────────────────────────────────────╯\u001b[0m\n",
       "\u001b[1;91mNameError: \u001b[0mname \u001b[32m'llm'\u001b[0m is not defined\n"
      ]
     },
     "metadata": {},
     "output_type": "display_data"
    }
   ],
   "source": [
    "# from torch.cuda import empty_cache\n",
    "# import gc\n",
    "# del llm\n",
    "# gc.collect()\n",
    "# empty_cache()"
   ]
  },
  {
   "cell_type": "code",
   "execution_count": 2,
   "metadata": {},
   "outputs": [
    {
     "name": "stderr",
     "output_type": "stream",
     "text": [
      "Loading checkpoint shards: 100%|██████████| 2/2 [00:07<00:00,  3.90s/it]\n",
      "Device has 1 GPUs available. Provide device={deviceId} to `from_model_id` to use availableGPUs for execution. deviceId is -1 (default) for CPU and can be a positive integer associated with CUDA device id.\n"
     ]
    }
   ],
   "source": [
    "# llm = load_llm('TheBloke/Wizard-Vicuna-13B-Uncensored-HF', False, 'local')\n",
    "llm = load_llm('TheBloke/Wizard-Vicuna-7B-Uncensored-HF', False, 'local')"
   ]
  },
  {
   "cell_type": "code",
   "execution_count": 3,
   "metadata": {},
   "outputs": [],
   "source": [
    "texts = json.loads(\n",
    "    '[\"Introduction: The role of good governance as a key to development effectiveness has been emphasized in recent years.It has been argued that merely allocatingpublic resources for the right goods andservices may not lead to desirable outcomes if budget institutions\\\\u2013involvingthe budget formulation, execution andmonitoring\\\\u2013are malfunctioning. In a waythat merely allocating budget resourcesfor goods and services, may not lead topositive health outcomes. In other words,governance is central in determining theefficacy of public spending. Studies showthat improved governance leads to betterdevelopment outcomes. So that, there isa close relationship between governanceand broader development outcomes suchas infant and maternal mortality, life expectancy at birth, years of schooling, etc.Given the poor state of health services indeveloping countries due to inappropriate management of government policiesin this sector , low investment in socialsectors such as health, the purpose ofthe study is to \\\\u201cInvestigate the effects of\", \"governance quality index on health indicators during the period 1996 to 2014for the countries of Southwest Asia. Poorbudget management has frequently beencited as one of the main reasons why governments in developing countries find itdifficult to translate public spending intoeffective services. A reasonable proposition, therefore, can be made: managingpublic resources to promote health sector-outcomes requires well- trained, skillful personnel, working in an institutionalsetting with an incentive system that reduces fraud and promotes cost efficiency.These studies have -analyzed the effectsof corruption and institutions on othervariables including economic growth,public investment, and social infrastructure. It can be said that governance indicators (including clarity and accountability, political stability, nonviolenceand terrorism, government effectiveness,the quality of laws and regulations, the)rule of law and the control of corruptionhave a strong direct negative impact oninfant mortality.Method: The panel data method and theStata.ver12 software were used to estimate data and information. The presentstudy was conducted among some countries and given the fact that governmentdata have been published since 1996, the\", \"study period is limited to the number ofyears that cannot be used for time serieseconometrics. Hence, for estimating themodel, the combined data econometricmethod (data panel) was used. Also, theestimation of the time series data duringthe 21-year period 1996-1995 was doneusing the software Stata.ver12. The dataestimation using the panel data methodhas advantages beyond the mere crosssectional method. So that working withthe panel allows it to be taken into account how healthcare governance overtime may affect the performance of another health care system in a country.Panel data yields more degrees of freedom by adding the variability of time series dimension.Based on economic and econometricreasoning, data availability and previousstudies on health outcome, the specification, we adopt here is a fixed effectsmodel. Also, data from a sample of 23Southwest Asia countries were used.The criterion for selecting the countrieswas based on the availability of data.Data governance from Worldwide Governance Indicator (2014) and, other datawere obtained from World DevelopmentIndicator (2014).Findings: According to the result of thisresearch it can be stated that index of\", \"quality of the governance index on theindicators of the health sector in selectedcountries in Southwest Asia by calculating a weighted average of indicators ofgood governance based on the Guni andDuncan (2004), quality of governanceand its impact on the sector indicatorsis discussed. Four components, including infant mortality rate, mortality rateof children under 5 years, life expectancyat birth and crude death rates have beenused as indicators of the health sector.The results show that in all four models,governance quality index has a significant effect on the components of healthsector development. In other words, itshould be stated that countries with better governance in the health sector andhealth status are more efficient.Discussion: In this paper, the effect ofgood governance on health sector indicators over the period 1996-2014 using theHunino model (2014) 1996 is based onthe panel data technique. Regarding thestatistical results, it can be stated that thepromotion of governance indicators andthe improvement of health expenditureand education of the health sector bygovernments, more than what the econometric and statistical results show, affectthe actual variables of the health sector.Therefore, it can be said that with consid-\", \"eration the six indicators of governance,measured by the quality governance index (with these indicators), have had agreater impact on health outcomes. Thishas led to a reduction in the mortalityrate and consequently an increase in lifeexpectancy at birth. The results also indicate that the role of the GDP as a measureof per capita income influences healthsector indicators. Also, the disadvantageof the region in terms of adult educationand its impact on health can be seen as aserious effort by educational institutionsto eliminate illiteracy from these communities. Also, given that the growth ofurbanization in developing countries isinevitable, taking into account the positive impact on the indicators of this section should not be ignored by the positive dimensions of this variable, that is,by planning appropriately for controllingand directing the migrant populationfrom rural to cities and marginal concerns, which is the negative aspect of thiscase, can improve indicators of this section.Keywords: Governance quality index,Index of the health sector, SouthwestAsia, Panel Data\", \"- Farag, M. Nandakumar, A. & Wallack, S. (2012). Health expenditures,health outcomes and the role of good governance. International Journalof Health Care Finance and Economics, 13(1), 33\\\\u201352.- Gani, A. & Duncan, R. (2004). Fijis governance index. Australian national university and the university of the South pacific at the universityof the south pacific.- Hilaire, H. G. (2015). Does good governance improve public healthexpenditure-health outcomes nexus? New empirical evidence from Africa. Facult\\\\u00e9 des Sciences Economiques et de Gestion (FASEG), 1, 1-24.- 17.Houeninvo G. Hilaire(2014) Does good governance improve public health expenditure-health outcomes nexus? New empirical evidencefrom Africa Facult\\\\u00e9 des Sciences Economiques et de Gestion (FASEG).pp.1-24- 18. Im, K. S., Pesaran, M. H. & Shin, Y. (1997). Testing for unit rootsin heterogeneous panels, Mimeo. Department of Applied Economics,Univ. of Cambridge.- 19. Kaufmann, D., Kraay, A. & Mastruzzi, M. (2004). Governancematters III: ngovernance indicators for 1996, 1998, 2000, and 2002.World Bank Economic of good governance, Int J Health Care FinanceEcon, 13, 33\\\\u201352.- 20.Kaufmann, D., Kraay, A. & Mastruzzi, M. (2010). The WorldwideGovernance Indicators, Methodology and Analytical Issues. The WorldBank, Development Research Group, Macroeconomics and GrowthTeam, 5430, 1-28.- Rajkumar, A. S. & Swaroop, V. (2008). Public spending and outcomes: Does governance matter? Journal of Development Economics,86, 96\\\\u2013111.- Uddin, A. (2010). Impact of good goverance on development in Bangladesh: A study. Unpublished thesis, Institute of Society and Globalization Roskilde University.- Virmanim, A. Sahu, S. & Tanwar, S. (2006). GOVERNANCE INTHE PROVISION OF PUBLIC goods in south asia. International economic relations, 1-43.- Wolf, S. (2007). Does aid\", \"& Mastruzzi, M. (2010). The WorldwideGovernance Indicators, Methodology and Analytical Issues. The WorldBank, Development Research Group, Macroeconomics and GrowthTeam, 5430, 1-28.- Rajkumar, A. S. & Swaroop, V. (2008). Public spending and outcomes: Does governance matter? Journal of Development Economics,86, 96\\\\u2013111.- Uddin, A. (2010). Impact of good goverance on development in Bangladesh: A study. Unpublished thesis, Institute of Society and Globalization Roskilde University.- Virmanim, A. Sahu, S. & Tanwar, S. (2006). GOVERNANCE INTHE PROVISION OF PUBLIC goods in south asia. International economic relations, 1-43.- Wolf, S. (2007). Does aid improve public service delivery? Review ofWorld Economics, 143(4), 650-672.- World Bank (2003). Making services work for poor people. World\"]'\n",
    ")"
   ]
  },
  {
   "cell_type": "code",
   "execution_count": 14,
   "metadata": {},
   "outputs": [],
   "source": [
    "llm.pipeline.tokenizer.pad_token = llm.pipeline.tokenizer.eos_token\n",
    "b = llm.pipeline.tokenizer(texts, return_tensors='pt', padding=True, truncation=True, max_length=256)"
   ]
  },
  {
   "cell_type": "code",
   "execution_count": 16,
   "metadata": {},
   "outputs": [],
   "source": [
    "texts = llm.pipeline.tokenizer.batch_decode(b['input_ids'], skip_special_tokens=True)"
   ]
  },
  {
   "cell_type": "code",
   "execution_count": 17,
   "metadata": {},
   "outputs": [],
   "source": [
    "user_message = 'Fix grammatical and lexical mistakes in the following text. Start the corrected text with the phrase, \"Corrected Text:\". \\nText:'\n",
    "li_prompts_fmtd = [\n",
    "    map_llmname_input_format(llm.model_id, \n",
    "                                            user_message = user_message + ' ' + text,\n",
    "                                            system_message = None) for text in texts\n",
    "]"
   ]
  },
  {
   "cell_type": "code",
   "execution_count": 27,
   "metadata": {},
   "outputs": [],
   "source": [
    "llm.pipeline.tokenizer.padding_side = 'left'\n",
    "inputs = llm.pipeline.tokenizer(li_prompts_fmtd+li_prompts_fmtd+li_prompts_fmtd+li_prompts_fmtd, return_tensors='pt', padding='longest', max_length=None, truncation=False)\n"
   ]
  },
  {
   "cell_type": "code",
   "execution_count": 28,
   "metadata": {},
   "outputs": [
    {
     "name": "stderr",
     "output_type": "stream",
     "text": [
      "/home/akann1warw1ck/miniconda3/envs/alanturing/lib/python3.10/site-packages/transformers/generation/utils.py:1457: UserWarning: You are calling .generate() with the `input_ids` being on a device type different than your model's device. `input_ids` is on cpu, whereas the model is on cuda. You may experience unexpected behaviors or slower generation. Please make sure that you have put `input_ids` to the correct device by calling for example input_ids = input_ids.to('cuda') before running `.generate()`.\n",
      "  warnings.warn(\n"
     ]
    }
   ],
   "source": [
    "a = llm.pipeline.model.generate(**inputs, max_new_tokens=256)"
   ]
  },
  {
   "cell_type": "code",
   "execution_count": 24,
   "metadata": {},
   "outputs": [],
   "source": [
    "outp = llm.pipeline.tokenizer.batch_decode(a, skip_special_tokens=True)"
   ]
  },
  {
   "cell_type": "code",
   "execution_count": 25,
   "metadata": {},
   "outputs": [],
   "source": [
    "li_split_text = [ text.split('Corrected Text:')[-1].strip(' \\n') for text in outp ]"
   ]
  },
  {
   "cell_type": "code",
   "execution_count": 30,
   "metadata": {},
   "outputs": [
    {
     "data": {
      "text/plain": [
       "['Introduction: The role of good governance as a key to development effectiveness has been emphasized in recent years. It has been argued that merely allocating public resources for the right goods and services may not lead to desirable outcomes if budget institutions – involving the budget formulation, execution and monitoring – are malfunctioning. In a way that merely allocating budget resources for goods and services, may not lead to positive health outcomes. In other words, governance is central in determining the efficacy of public spending. Studies show that improved governance leads to better development outcomes. So that, there is a close relationship between governance and broader development outcomes such as infant and maternal mortality, life expectancy at birth, years of schooling, etc. Given the poor state of health services in developing countries due to inappropriate management of government policies in this sector, low investment in social sectors such as health, the purpose of the study is to investigate the effects of',\n",
       " 'The panel data method and the Stata.ver12 software were used to estimate data and information. The present study was conducted among some countries and given the fact that government data have been published.',\n",
       " 'The study period is limited to the number of years that cannot be used for time series econometrics. Hence, for estimating the model, the combined data econometric method (data panel) was used. Also, the estimation of the time series data during the 21-year period 1996-1995 was done using the software Stata.ver12. The data estimation using the panel data method has advantages beyond the mere cross-sectional method. So that working with the panel allows it to be taken into account how healthcare governance over time may affect the performance of another health care system in a country. Panel data yields more degrees of freedom by adding the variability of time series dimension. Based on economic and econometric reasoning, data availability and previous studies on health outcome, the specification, we adopt here is a fixed effects model. Also, data from a sample of 23 Southwest Asia countries were used. The criterion for selecting the countries was based on the availability of data. Data governance from Worldwide Governance Indicator (2014) and, other data were obtained from World Development Indicator (2014). Findings:',\n",
       " 'In this paper, the effect of good governance on health sector indicators over the period 1996-2014 using the Hunino model (2014) 1996 is based on the panel data technique. Regarding the statistical results, it can be stated that the promotion of governance indicators and the improvement of health expenditure and education of the health sector by governments,\\n\\nhas a significant effect on the components of health sector development. In other words, it should be stated that countries with better governance in the health sector and health status are more efficient.',\n",
       " 'The six indicators of governance, measured by the quality governance index (with these indicators), have had a greater impact on health outcomes. This has led to a reduction in the mortality rate and consequently an increase in life expectancy at birth. The results also indicate that the role of the GDP as a measure of per capita income influences health sector indicators. Additionally, the disadvantage of the region in terms of adult education and its impact on health can be seen as a serious effort by educational institutions to eliminate illiteracy from these communities. Given that the growth of urbanization in developing countries is inevitable, taking into account the positive impact on the indicators of this section should not be ignored by the positive dimensions of this variable, that is, by planning appropriately for controlling and directing the migrant population from rural to cities and marginal concerns.',\n",
       " '- Farag, M. Nandakumar, A. & Wallack, S. (2012). Health expenditures,health outcomes and the role of good governance. International Journalof Health Care Finance and Economics, 13(1), 33–52.- Gani, A. & Duncan, R. (2004). Fijis governance index. Australian national university and the university of the South pacific at the universityof the South Pacific.- Hilaire, H. G. (2015). Does good governance improve public healthexpenditure-health outcomes nexus? New empirical evidence from Africa. Faculté des Sciences Economiques et de Gestion (FASEG), 1, 1-24.- 17.Houeninvo G. Hilaire(2014) Does good governance improve public health expenditure-health outcomes nexus? New empirical evidencefrom Africa Faculté des Sciences Economiques et de Gestion (FASEG).pp.1-24- 18. Im, K',\n",
       " 'The Worldwide Governance Indicators, Methodology and Analytical Issues. The World Bank, Development Research Group, Macroeconomics and Growth Team, 5430, 1-28.\\nRajkumar, A. S. & Swaroop, V. (2008). Public spending and outcomes: Does governance matter? Journal of Development Economics, 86, 96–111.\\nUddin, A. (2010). Impact of good governance on development in Bangladesh: A study. Unpublished thesis, Institute of Society and Globalization Roskilde University.\\nVirmanim, A. Sahu, S. & Tanwar, S. (2006). GOVERNANCE IN THE PROVISION OF PUBLIC goods in south asia. International economic relations, 1-43.\\nWolf, S. (2007). Does aid improve public service delivery? Review of World Economics, 143(4), 650-672.\\nWorld Bank (200']"
      ]
     },
     "execution_count": 30,
     "metadata": {},
     "output_type": "execute_result"
    }
   ],
   "source": [
    "li_split_text"
   ]
  }
 ],
 "metadata": {
  "kernelspec": {
   "display_name": "alanturing",
   "language": "python",
   "name": "python3"
  },
  "language_info": {
   "codemirror_mode": {
    "name": "ipython",
    "version": 3
   },
   "file_extension": ".py",
   "mimetype": "text/x-python",
   "name": "python",
   "nbconvert_exporter": "python",
   "pygments_lexer": "ipython3",
   "version": "3.10.9"
  },
  "orig_nbformat": 4
 },
 "nbformat": 4,
 "nbformat_minor": 2
}
